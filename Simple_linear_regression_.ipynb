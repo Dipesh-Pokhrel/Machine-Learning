{
  "nbformat": 4,
  "nbformat_minor": 0,
  "metadata": {
    "colab": {
      "name": "Simple linear regression .ipynb",
      "provenance": []
    },
    "kernelspec": {
      "name": "python3",
      "display_name": "Python 3"
    },
    "language_info": {
      "name": "python"
    }
  },
  "cells": [
    {
      "cell_type": "markdown",
      "source": [
        "let's consider a simple linear regression—that is, the common case of fitting a line to $(x,y)$  data. We will use the following simple data for our regression example:"
      ],
      "metadata": {
        "id": "eB3_O5YJ2Gtk"
      }
    },
    {
      "cell_type": "code",
      "execution_count": 10,
      "metadata": {
        "colab": {
          "base_uri": "https://localhost:8080/",
          "height": 265
        },
        "id": "UY3Snz5W17uu",
        "outputId": "baa8570d-862a-4ff7-b60e-42da110ab120"
      },
      "outputs": [
        {
          "output_type": "display_data",
          "data": {
            "text/plain": [
              "<Figure size 432x288 with 1 Axes>"
            ],
            "image/png": "[encoded data removed]"
          },
          "metadata": {
            "needs_background": "light"
          }
        }
      ],
      "source": [
        "import matplotlib.pyplot as plt\n",
        "import numpy as np\n",
        "\n",
        "rng = np.random.RandomState(42)\n",
        "x = 10 * rng.rand(50)\n",
        "y = 2 * x - 1 + rng.randn(50)\n",
        "plt.scatter(x,y);"
      ]
    },
    {
      "cell_type": "markdown",
      "source": [
        "1. **Choose a class of model**\n",
        "\n",
        "In Scikit-Learn, every class of model is represented by a Python class. So, for example, if we would like to compute a simple linear regression model, we can import the linear regression class:"
      ],
      "metadata": {
        "id": "QmO6ZdEiGu7T"
      }
    },
    {
      "cell_type": "code",
      "source": [
        "from sklearn.linear_model import LinearRegression"
      ],
      "metadata": {
        "id": "SVMlLna75K4T"
      },
      "execution_count": 12,
      "outputs": []
    },
    {
      "cell_type": "markdown",
      "source": [
        "2. **Choose model hyperparameters**\n",
        "\n",
        "For our linear regression example, we can instantiate the `LinearRegression` class and specify that we would like to fit the intercept using the `fit_intercept` hyperparameter:"
      ],
      "metadata": {
        "id": "DZggss4rHmoE"
      }
    },
    {
      "cell_type": "code",
      "source": [
        "model = LinearRegression(fit_intercept=True)\n",
        "# model = LinearRegression(fit_intercept=False)\n",
        "model"
      ],
      "metadata": {
        "colab": {
          "base_uri": "https://localhost:8080/"
        },
        "id": "QDChoi4DHl3a",
        "outputId": "72686f4c-59f1-475d-8524-5edab3620376"
      },
      "execution_count": 13,
      "outputs": [
        {
          "output_type": "execute_result",
          "data": {
            "text/plain": [
              "LinearRegression()"
            ]
          },
          "metadata": {},
          "execution_count": 13
        }
      ]
    },
    {
      "cell_type": "markdown",
      "source": [
        "Keep in mind that when the model is instantiated, the only action is the storing of these hyperparameter values. In particular, we have not yet applied the model to any data: the Scikit-Learn API makes very clear the distinction between choice of model and application of model to data."
      ],
      "metadata": {
        "id": "h_ImFOoRIa3a"
      }
    },
    {
      "cell_type": "markdown",
      "source": [
        "3. **Arrange data into a features matrix and target vector**\n",
        "\n",
        "Previously we detailed the Scikit-Learn data representation, which requires a two-dimensional features matrix and a one-dimensional target array. Here our target variable `y` is already in the correct form `(a length-n_samples array)`, but we need to massage the data `x` to make it a matrix of size `[n_samples, n_features]`. In this case, this amounts to a simple reshaping of the one-dimensional array:"
      ],
      "metadata": {
        "id": "R_3KCYJ_Iljy"
      }
    },
    {
      "cell_type": "code",
      "source": [
        "X = x[:, np.newaxis]"
      ],
      "metadata": {
        "id": "4sKrFgFRILMi"
      },
      "execution_count": 14,
      "outputs": []
    },
    {
      "cell_type": "markdown",
      "source": [
        "5. **Fit the model to your data**\n",
        "\n",
        "Now it is time to apply our model to data. This can be done with the `fit()` method of the model:"
      ],
      "metadata": {
        "id": "BMDDvkkEI31z"
      }
    },
    {
      "cell_type": "code",
      "source": [
        "model.fit(X,y)"
      ],
      "metadata": {
        "colab": {
          "base_uri": "https://localhost:8080/"
        },
        "id": "RhbaX_B-IyBS",
        "outputId": "a24ae20d-2149-41bd-f1df-90ed0c856316"
      },
      "execution_count": 15,
      "outputs": [
        {
          "output_type": "execute_result",
          "data": {
            "text/plain": [
              "LinearRegression()"
            ]
          },
          "metadata": {},
          "execution_count": 15
        }
      ]
    },
    {
      "cell_type": "markdown",
      "source": [
        "This `fit()` command causes a number of model-dependent internal computations to take place, and the results of these computations are stored in model-specific attributes that the user can explore. In Scikit-Learn, by convention all model parameters that were learned during the `fit()` process have trailing underscores; for example in this linear model, we have the following:"
      ],
      "metadata": {
        "id": "DBmNtU-JJITD"
      }
    },
    {
      "cell_type": "code",
      "source": [
        "model.coef_"
      ],
      "metadata": {
        "colab": {
          "base_uri": "https://localhost:8080/"
        },
        "id": "VaIRyQLRJBoz",
        "outputId": "df93233a-9474-43ba-b788-58abf215bc55"
      },
      "execution_count": 16,
      "outputs": [
        {
          "output_type": "execute_result",
          "data": {
            "text/plain": [
              "array([1.9776566])"
            ]
          },
          "metadata": {},
          "execution_count": 16
        }
      ]
    },
    {
      "cell_type": "code",
      "source": [
        "model.intercept_"
      ],
      "metadata": {
        "colab": {
          "base_uri": "https://localhost:8080/"
        },
        "id": "aZlUtE7YJTJq",
        "outputId": "c0cc75ed-71de-4f32-bab6-cea0d012935a"
      },
      "execution_count": 17,
      "outputs": [
        {
          "output_type": "execute_result",
          "data": {
            "text/plain": [
              "-0.9033107255311146"
            ]
          },
          "metadata": {},
          "execution_count": 17
        }
      ]
    },
    {
      "cell_type": "markdown",
      "source": [
        "These two parameters represent the slope and intercept of the simple linear fit to the data. Comparing to the data definition, we see that they are very close to the input slope of `2` and intercept of `-1`.\n",
        "\n",
        "One question that frequently comes up regards the uncertainty in such internal model parameters. In general, Scikit-Learn does not provide tools to draw conclusions from internal model parameters themselves: interpreting model parameters is much more a statistical modeling question than a machine learning question. Machine learning rather focuses on what the model predicts."
      ],
      "metadata": {
        "id": "1Fg4mAKmK138"
      }
    },
    {
      "cell_type": "markdown",
      "source": [
        "**5. Predict labels for unknown data**\n",
        "\n",
        "Once the model is trained, the main task of supervised machine learning is to evaluate it based on what it says about new data that was not part of the training set. In Scikit-Learn, this can be done using the `predict()` method. For the sake of this example, our \"new data\" will be a grid of `x` values, and we will ask what `y` values the model predicts:"
      ],
      "metadata": {
        "id": "tG1efZ8pLAVE"
      }
    },
    {
      "cell_type": "code",
      "source": [
        "xfit = np.linspace(-1,11)\n",
        "xfit"
      ],
      "metadata": {
        "colab": {
          "base_uri": "https://localhost:8080/"
        },
        "id": "EFq4Cc9TJaOC",
        "outputId": "9898b134-ce9d-4d4c-db28-3d4dfb047af2"
      },
      "execution_count": 20,
      "outputs": [
        {
          "output_type": "execute_result",
          "data": {
            "text/plain": [
              "array([-1.        , -0.75510204, -0.51020408, -0.26530612, -0.02040816,\n",
              "        0.2244898 ,  0.46938776,  0.71428571,  0.95918367,  1.20408163,\n",
              "        1.44897959,  1.69387755,  1.93877551,  2.18367347,  2.42857143,\n",
              "        2.67346939,  2.91836735,  3.16326531,  3.40816327,  3.65306122,\n",
              "        3.89795918,  4.14285714,  4.3877551 ,  4.63265306,  4.87755102,\n",
              "        5.12244898,  5.36734694,  5.6122449 ,  5.85714286,  6.10204082,\n",
              "        6.34693878,  6.59183673,  6.83673469,  7.08163265,  7.32653061,\n",
              "        7.57142857,  7.81632653,  8.06122449,  8.30612245,  8.55102041,\n",
              "        8.79591837,  9.04081633,  9.28571429,  9.53061224,  9.7755102 ,\n",
              "       10.02040816, 10.26530612, 10.51020408, 10.75510204, 11.        ])"
            ]
          },
          "metadata": {},
          "execution_count": 20
        }
      ]
    },
    {
      "cell_type": "markdown",
      "source": [
        "As before, we need to coerce these x values into a `[n_samples, n_features]` features matrix, after which we can feed it to the model:"
      ],
      "metadata": {
        "id": "NwANRyi0LtKE"
      }
    },
    {
      "cell_type": "code",
      "source": [
        "Xfit = xfit[:, np.newaxis]  # new unseen data\n",
        "yfit = model.predict(Xfit)"
      ],
      "metadata": {
        "id": "hFHCkA_BLfsV"
      },
      "execution_count": 22,
      "outputs": []
    },
    {
      "cell_type": "markdown",
      "source": [
        "Finally, let's visualize the results by plotting first the raw data, and then this model fit:"
      ],
      "metadata": {
        "id": "kqsuZsuEMi4N"
      }
    },
    {
      "cell_type": "code",
      "source": [
        "plt.scatter(x,y)\n",
        "plt.plot(xfit, yfit);"
      ],
      "metadata": {
        "colab": {
          "base_uri": "https://localhost:8080/",
          "height": 265
        },
        "id": "dfYDt7A6MjeE",
        "outputId": "2c058441-d78d-406e-f768-d7539a3ca150"
      },
      "execution_count": 26,
      "outputs": [
        {
          "output_type": "display_data",
          "data": {
            "text/plain": [
              "<Figure size 432x288 with 1 Axes>"
            ],
            "image/png": "[encoded data removed]"
          },
          "metadata": {
            "needs_background": "light"
          }
        }
      ]
    }
  ]
}